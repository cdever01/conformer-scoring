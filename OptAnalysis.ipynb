{
 "cells": [
  {
   "cell_type": "code",
   "execution_count": 6,
   "metadata": {
    "collapsed": true
   },
   "outputs": [],
   "source": [
    "import pandas as pd\n",
    "import numpy as np\n",
    "import matplotlib.pyplot as plt\n",
    "\n",
    "from scipy.stats import linregress"
   ]
  },
  {
   "cell_type": "code",
   "execution_count": 7,
   "metadata": {
    "collapsed": true
   },
   "outputs": [],
   "source": [
    "df = pd.read_csv('data-merge.csv')"
   ]
  },
  {
   "cell_type": "code",
   "execution_count": 8,
   "metadata": {},
   "outputs": [
    {
     "data": {
      "text/plain": [
       "Index(['name', 'conf', 'dft@mmff', 'pm7@mmff', 'mmff@mmff', 'dft@pm7',\n",
       "       'pm7@pm7', 'mmff@pm7', 'dft@dft', 'pm7@dft', 'mmff@dft'],\n",
       "      dtype='object')"
      ]
     },
     "execution_count": 8,
     "metadata": {},
     "output_type": "execute_result"
    }
   ],
   "source": [
    "df.columns # make sure there aren't spaces in the column names"
   ]
  },
  {
   "cell_type": "code",
   "execution_count": 9,
   "metadata": {
    "scrolled": true
   },
   "outputs": [
    {
     "data": {
      "text/plain": [
       "name          object\n",
       "conf          object\n",
       "dft@mmff      object\n",
       "pm7@mmff      object\n",
       "mmff@mmff    float64\n",
       "dft@pm7      float64\n",
       "pm7@pm7      float64\n",
       "mmff@pm7      object\n",
       "dft@dft      float64\n",
       "pm7@dft      float64\n",
       "mmff@dft     float64\n",
       "dtype: object"
      ]
     },
     "execution_count": 9,
     "metadata": {},
     "output_type": "execute_result"
    }
   ],
   "source": [
    "df.dtypes # should be float64 for all numeric columns"
   ]
  },
  {
   "cell_type": "code",
   "execution_count": 10,
   "metadata": {
    "collapsed": true
   },
   "outputs": [],
   "source": [
    "# fix up some columns for \"nan\" values\n",
    "convert_columns = [ 'dft@mmff', 'pm7@mmff', 'mmff@pm7' ]\n",
    "for col in convert_columns:\n",
    "    df[col] = df[col].astype(np.float64)"
   ]
  },
  {
   "cell_type": "code",
   "execution_count": 11,
   "metadata": {},
   "outputs": [
    {
     "data": {
      "text/plain": [
       "name          object\n",
       "conf          object\n",
       "dft@mmff     float64\n",
       "pm7@mmff     float64\n",
       "mmff@mmff    float64\n",
       "dft@pm7      float64\n",
       "pm7@pm7      float64\n",
       "mmff@pm7     float64\n",
       "dft@dft      float64\n",
       "pm7@dft      float64\n",
       "mmff@dft     float64\n",
       "dtype: object"
      ]
     },
     "execution_count": 11,
     "metadata": {},
     "output_type": "execute_result"
    }
   ],
   "source": [
    "df.dtypes # should now be float64 for all numeric columns"
   ]
  },
  {
   "cell_type": "code",
   "execution_count": 14,
   "metadata": {},
   "outputs": [
    {
     "name": "stderr",
     "output_type": "stream",
     "text": [
      "/Users/ghutchis/.local/lib/python3.6/site-packages/scipy/stats/_stats_mstats_common.py:106: RuntimeWarning: invalid value encountered in double_scalars\n",
      "  slope = r_num / ssxm\n",
      "/Users/ghutchis/.local/lib/python3.6/site-packages/scipy/stats/_stats_mstats_common.py:116: RuntimeWarning: invalid value encountered in sqrt\n",
      "  t = r * np.sqrt(df / ((1.0 - r + TINY)*(1.0 + r + TINY)))\n",
      "/Users/ghutchis/.local/lib/python3.6/site-packages/scipy/stats/_stats_mstats_common.py:118: RuntimeWarning: invalid value encountered in double_scalars\n",
      "  sterrest = np.sqrt((1 - r**2) * ssym / ssxm / df)\n"
     ]
    }
   ],
   "source": [
    "names = np.unique(df['name']) # all the molecule names\n",
    "pairs = [ # for correlation analysis\n",
    "    ['dft@pm7', 'dft@dft'],\n",
    "    ['pm7@pm7', 'dft@dft'],\n",
    "    ['mmff@mmff', 'dft@dft'],\n",
    "    ['mmff@pm7', 'dft@dft'],\n",
    "    ['pm7@dft', 'pm7@pm7'],\n",
    "    ['dft@mmff', 'dft@dft'],\n",
    "    ['dft@mmff', 'dft@pm7'],\n",
    "    ['mmff@mmff', 'dft@pm7'],\n",
    "    ['pm7@dft', 'dft@dft'],\n",
    "    ['pm7@pm7', 'dft@pm7']\n",
    "]\n",
    "for pair in pairs:\n",
    "    with open('%s_%s_stats.csv' % (pair[0], pair[1]), 'w') as out:\n",
    "        print(\"name, len, rsq, spearman, slope, intercept\", sep=',', file=out)\n",
    "        for name in names:\n",
    "            x = df[df['name'] == name][pair[0]]\n",
    "            y = df[df['name'] == name][pair[1]]\n",
    "            # create a temporary data frame\n",
    "            d = pd.DataFrame({'x': x, 'y': y})\n",
    "            spearman = d.corr(method='spearman').values[0, 1]\n",
    "            slope, intercept, r_value, p_value, std_err = linregress(x, y)\n",
    "            rsq = r_value**2\n",
    "            print(name, len(x), rsq, spearman, slope, intercept, sep=',', file=out)"
   ]
  },
  {
   "cell_type": "code",
   "execution_count": null,
   "metadata": {
    "collapsed": true
   },
   "outputs": [],
   "source": []
  }
 ],
 "metadata": {
  "kernelspec": {
   "display_name": "Python 3",
   "language": "python",
   "name": "python3"
  },
  "language_info": {
   "codemirror_mode": {
    "name": "ipython",
    "version": 3
   },
   "file_extension": ".py",
   "mimetype": "text/x-python",
   "name": "python",
   "nbconvert_exporter": "python",
   "pygments_lexer": "ipython3",
   "version": "3.6.1"
  }
 },
 "nbformat": 4,
 "nbformat_minor": 1
}
